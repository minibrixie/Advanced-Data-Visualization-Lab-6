{
  "nbformat": 4,
  "nbformat_minor": 0,
  "metadata": {
    "colab": {
      "provenance": [],
      "authorship_tag": "ABX9TyOsvVDvxpXm/YB9I1ABnH/9",
      "include_colab_link": true
    },
    "kernelspec": {
      "name": "python3",
      "display_name": "Python 3"
    },
    "language_info": {
      "name": "python"
    }
  },
  "cells": [
    {
      "cell_type": "markdown",
      "metadata": {
        "id": "view-in-github",
        "colab_type": "text"
      },
      "source": [
        "<a href=\"https://colab.research.google.com/github/minibrixie/Advanced-Data-Visualization-Lab-6/blob/main/Advanced_Data_Visualization_Lab_6.ipynb\" target=\"_parent\"><img src=\"https://colab.research.google.com/assets/colab-badge.svg\" alt=\"Open In Colab\"/></a>"
      ]
    },
    {
      "cell_type": "code",
      "execution_count": null,
      "metadata": {
        "colab": {
          "base_uri": "https://localhost:8080/"
        },
        "id": "zQFnovMCRioz",
        "outputId": "11dee98d-2d2f-4bac-ac87-5d66f7bd62e1"
      },
      "outputs": [
        {
          "name": "stdout",
          "output_type": "stream",
          "text": [
            "Hello! Please enter your name:\n",
            "Angelica Anne\n",
            "Enter your age:\n",
            "22\n",
            "Enter your weight (in kg):\n",
            "41\n",
            "Enter your height (in cm):\n",
            "152\n"
          ]
        }
      ],
      "source": [
        "print(\"Hello! Please enter your name:\")\n",
        "name = input()\n",
        "print(\"Enter your age:\")\n",
        "age = int(input())\n",
        "print(\"Enter your weight (in kg):\")\n",
        "weight = float(input())\n",
        "print(\"Enter your height (in cm):\")\n",
        "height = float(input())"
      ]
    },
    {
      "cell_type": "code",
      "source": [
        "\n",
        "print(\"There are your inputs:\")\n",
        "print(name)\n",
        "print(age , \" years old\")\n",
        "print(height , \"cm\")\n",
        "print(weight , \"kg\")"
      ],
      "metadata": {
        "colab": {
          "base_uri": "https://localhost:8080/"
        },
        "id": "6qcYV__2S8i7",
        "outputId": "eb9c0b93-cf5a-4b31-b5d4-925fce91c464"
      },
      "execution_count": null,
      "outputs": [
        {
          "output_type": "stream",
          "name": "stdout",
          "text": [
            "There are your inputs:\n",
            "Angelica Anne\n",
            "22  years old\n",
            "152.0 cm\n",
            "41.0 kg\n"
          ]
        }
      ]
    },
    {
      "cell_type": "code",
      "source": [
        "bmiCompute = weight / ((height/100) * (height/100))\n",
        "if(bmiCompute < 18.5):\n",
        "  print(\"BMI Diagnosis: Underweight\")\n",
        "elif(bmiCompute < 24.9):\n",
        "  print(\"BMI Diagnosis: Normal/Healthy\")\n",
        "elif(bmiCompute < 29.9):\n",
        "  print(\"BMI Diagnosis: Overweight\")\n",
        "elif(bmiCompute > 30):\n",
        "  print(\"BMI Diagnosis: Obese\")"
      ],
      "metadata": {
        "colab": {
          "base_uri": "https://localhost:8080/"
        },
        "id": "bP5lEhV6TE9B",
        "outputId": "d275b498-3e4e-4f97-a642-d905e8b539ed"
      },
      "execution_count": null,
      "outputs": [
        {
          "output_type": "stream",
          "name": "stdout",
          "text": [
            "BMI Diagnosis: Underweight\n"
          ]
        }
      ]
    }
  ]
}